{
 "cells": [
  {
   "cell_type": "code",
   "execution_count": null,
   "id": "81c2f803",
   "metadata": {},
   "outputs": [],
   "source": [
    "from pathlib import Path\n",
    "DATA_DIR = Path(\"/home/mengk/rome/results_human_eval\")\n",
    "N = 100\n",
    "MODEL_NAMES = [\"ROME\", \"FT\", \"MEND\"]"
   ]
  },
  {
   "cell_type": "code",
   "execution_count": null,
   "id": "8c17f8a5",
   "metadata": {},
   "outputs": [],
   "source": [
    "file_set = None\n",
    "for model_name in MODEL_NAMES:\n",
    "    d = DATA_DIR / model_name / \"run_000\"\n",
    "    files = d.glob(\"case_*.json\")\n",
    "    print(list(files))\n",
    "    cur_set = set(str(f).split(\"/\")[-1] for f in files)\n",
    "\n",
    "    if file_set is None:\n",
    "        file_set = cur_set\n",
    "    else:\n",
    "        file_set = file_set.intersection(cur_set)\n",
    "\n",
    "import numpy as np\n",
    "idxs = np.random.choice(len(file_set), N, replace=False)\n",
    "file_list = list(file_set)\n",
    "files = [file_list[i] for i in idxs]"
   ]
  },
  {
   "cell_type": "code",
   "execution_count": null,
   "id": "b171a3fe",
   "metadata": {},
   "outputs": [],
   "source": [
    "nums = [int(f.split(\".\")[0].split(\"_\")[-1]) for f in files]\n",
    "print(nums)"
   ]
  },
  {
   "cell_type": "code",
   "execution_count": null,
   "id": "c5c3c654",
   "metadata": {},
   "outputs": [],
   "source": [
    "ret = []\n",
    "for file in files:\n",
    "    cur = {\"fname\": file}\n",
    "    for model_name in MODEL_NAMES:\n",
    "        fname = DATA_DIR / model_name / \"run_000\" / file\n",
    "        import json\n",
    "        with open(fname, \"r\") as f:\n",
    "            data = json.load(f)\n",
    "            \n",
    "        if \"request\" not in cur:    \n",
    "            cur[\"request\"] = data[\"requested_rewrite\"]\n",
    "        \n",
    "        cur[model_name] = data[\"post\"][\"text\"]\n",
    "    \n",
    "    ret.append(cur)"
   ]
  },
  {
   "cell_type": "code",
   "execution_count": null,
   "id": "f8a6974d",
   "metadata": {},
   "outputs": [],
   "source": [
    "with open(\"human_eval.json\", \"w\") as f:\n",
    "    json.dump(ret, f, indent=2)"
   ]
  },
  {
   "cell_type": "code",
   "execution_count": null,
   "id": "400dd0b5",
   "metadata": {},
   "outputs": [],
   "source": []
  }
 ],
 "metadata": {
  "kernelspec": {
   "display_name": "Python 3 (ipykernel)",
   "language": "python",
   "name": "python3"
  },
  "language_info": {
   "codemirror_mode": {
    "name": "ipython",
    "version": 3
   },
   "file_extension": ".py",
   "mimetype": "text/x-python",
   "name": "python",
   "nbconvert_exporter": "python",
   "pygments_lexer": "ipython3",
   "version": "3.9.7"
  }
 },
 "nbformat": 4,
 "nbformat_minor": 5
}
